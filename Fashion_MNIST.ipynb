{
  "nbformat": 4,
  "nbformat_minor": 0,
  "metadata": {
    "colab": {
      "provenance": [],
      "authorship_tag": "ABX9TyN4vVRnHxw+mnjxoEsxu0or",
      "include_colab_link": true
    },
    "kernelspec": {
      "name": "python3",
      "display_name": "Python 3"
    },
    "language_info": {
      "name": "python"
    }
  },
  "cells": [
    {
      "cell_type": "markdown",
      "metadata": {
        "id": "view-in-github",
        "colab_type": "text"
      },
      "source": [
        "<a href=\"https://colab.research.google.com/github/SonakshiA/Fashion-MNIST/blob/main/Fashion_MNIST.ipynb\" target=\"_parent\"><img src=\"https://colab.research.google.com/assets/colab-badge.svg\" alt=\"Open In Colab\"/></a>"
      ]
    },
    {
      "cell_type": "markdown",
      "source": [
        "**Importing the necessary libraries**"
      ],
      "metadata": {
        "id": "sUx9PXlPT_XU"
      }
    },
    {
      "cell_type": "code",
      "execution_count": 1,
      "metadata": {
        "id": "hBWxQhbITmN3"
      },
      "outputs": [],
      "source": [
        "import numpy as np\n",
        "import pandas as pd\n",
        "import matplotlib.pyplot as plt\n",
        "import tensorflow as tf\n",
        "from tensorflow.keras import models, datasets, layers"
      ]
    },
    {
      "cell_type": "markdown",
      "source": [
        "**Downloading the dataset from https://keras.io/api/datasets/fashion_mnist/**"
      ],
      "metadata": {
        "id": "0qDlvJ-FUDJw"
      }
    },
    {
      "cell_type": "code",
      "source": [
        "(x_train, y_train), (x_test, y_test) = tf.keras.datasets.fashion_mnist.load_data()"
      ],
      "metadata": {
        "colab": {
          "base_uri": "https://localhost:8080/"
        },
        "id": "RO8cNOUYT1kC",
        "outputId": "6818beda-a6ca-4600-a8f3-42332c99852a"
      },
      "execution_count": 3,
      "outputs": [
        {
          "output_type": "stream",
          "name": "stdout",
          "text": [
            "Downloading data from https://storage.googleapis.com/tensorflow/tf-keras-datasets/train-labels-idx1-ubyte.gz\n",
            "29515/29515 [==============================] - 0s 0us/step\n",
            "Downloading data from https://storage.googleapis.com/tensorflow/tf-keras-datasets/train-images-idx3-ubyte.gz\n",
            "26421880/26421880 [==============================] - 0s 0us/step\n",
            "Downloading data from https://storage.googleapis.com/tensorflow/tf-keras-datasets/t10k-labels-idx1-ubyte.gz\n",
            "5148/5148 [==============================] - 0s 0us/step\n",
            "Downloading data from https://storage.googleapis.com/tensorflow/tf-keras-datasets/t10k-images-idx3-ubyte.gz\n",
            "4422102/4422102 [==============================] - 0s 0us/step\n"
          ]
        }
      ]
    },
    {
      "cell_type": "markdown",
      "source": [
        "**Showing first 9 training images**"
      ],
      "metadata": {
        "id": "EF-OX3ZHUn9a"
      }
    },
    {
      "cell_type": "code",
      "source": [
        "for i in range (9):\n",
        "  ax = plt.subplot(3,3,i+1)\n",
        "  plt.imshow(x_train[i])\n",
        "  plt.title(y_train[i])\n",
        "  plt.axis(\"off\")"
      ],
      "metadata": {
        "colab": {
          "base_uri": "https://localhost:8080/",
          "height": 428
        },
        "id": "wyZnk7aWT-Jf",
        "outputId": "b20681c3-4405-4d04-f4de-bc299b2cbf88"
      },
      "execution_count": 5,
      "outputs": [
        {
          "output_type": "display_data",
          "data": {
            "text/plain": [
              "<Figure size 640x480 with 9 Axes>"
            ],
            "image/png": "[encoded data removed]"
          },
          "metadata": {}
        }
      ]
    },
    {
      "cell_type": "markdown",
      "source": [
        "**On-Hot Encoding the labels**"
      ],
      "metadata": {
        "id": "04e5iX6wUvt9"
      }
    },
    {
      "cell_type": "code",
      "source": [
        "y_train = tf.keras.utils.to_categorical(y_train)\n",
        "y_test = tf.keras.utils.to_categorical(y_test)"
      ],
      "metadata": {
        "id": "Nql6LpqsUq7E"
      },
      "execution_count": 6,
      "outputs": []
    },
    {
      "cell_type": "code",
      "source": [
        "print(x_train.shape)\n",
        "print(x_test.shape)\n",
        "print(y_train.shape)\n",
        "print(y_test.shape)"
      ],
      "metadata": {
        "colab": {
          "base_uri": "https://localhost:8080/"
        },
        "id": "z1Q2k_qDUzXY",
        "outputId": "10340cd4-5bb6-4d11-fea1-23e6949e6e5d"
      },
      "execution_count": 7,
      "outputs": [
        {
          "output_type": "stream",
          "name": "stdout",
          "text": [
            "(60000, 28, 28)\n",
            "(10000, 28, 28)\n",
            "(60000, 10)\n",
            "(10000, 10)\n"
          ]
        }
      ]
    },
    {
      "cell_type": "markdown",
      "source": [
        "**Bringing pixel values between 0 and 1**"
      ],
      "metadata": {
        "id": "ZaDWO_tiVRLm"
      }
    },
    {
      "cell_type": "code",
      "source": [
        "x_train = x_train.reshape(x_train.shape[0],28,28,1)\n",
        "x_test = x_test.reshape(x_test.shape[0],28,28,1)\n",
        "xtrain = x_train.astype('float32')\n",
        "xtest = x_test.astype('float32')\n",
        "xtrain/=255.0\n",
        "xtest/=255.0"
      ],
      "metadata": {
        "id": "iwrnajk0U-pq"
      },
      "execution_count": 15,
      "outputs": []
    },
    {
      "cell_type": "code",
      "source": [
        "print(x_train.shape)\n",
        "print(x_test.shape)\n",
        "print(y_train.shape)\n",
        "print(y_test.shape)"
      ],
      "metadata": {
        "id": "uT-odRy_Wb3P",
        "outputId": "2dacdf17-dd40-4f22-d7f0-0921d8c4accd",
        "colab": {
          "base_uri": "https://localhost:8080/"
        }
      },
      "execution_count": 16,
      "outputs": [
        {
          "output_type": "stream",
          "name": "stdout",
          "text": [
            "(60000, 28, 28, 1)\n",
            "(10000, 28, 28, 1)\n",
            "(60000, 10)\n",
            "(10000, 10)\n"
          ]
        }
      ]
    },
    {
      "cell_type": "markdown",
      "source": [
        "**Neural Network Implementation**"
      ],
      "metadata": {
        "id": "XAbqKqf3VWV9"
      }
    },
    {
      "cell_type": "code",
      "source": [
        "model = models.Sequential()\n",
        "model.add(layers.Conv2D(128,(3,3),activation='relu'))\n",
        "model.add(layers.MaxPooling2D(2,2))\n",
        "model.add(layers.Dropout(0.5))\n",
        "model.add(layers.Conv2D(64,(3,3),activation='relu'))\n",
        "model.add(layers.MaxPooling2D(2,2))\n",
        "model.add(layers.Dropout(0.5))\n",
        "model.add(layers.Conv2D(64,(3,3),activation='relu'))\n",
        "model.add(layers.Flatten())\n",
        "model.add(layers.Dense(128,activation='relu')) #Dense(128) is a fully connected layer\n",
        "model.add(layers.Dense(10,activation='softmax'))"
      ],
      "metadata": {
        "id": "iZPBaDqYValc"
      },
      "execution_count": 29,
      "outputs": []
    },
    {
      "cell_type": "code",
      "source": [
        "model.compile(optimizer = tf.keras.optimizers.Adam(),loss=tf.keras.losses.categorical_crossentropy,metrics=['accuracy'])"
      ],
      "metadata": {
        "id": "FSMAmHeSVlOW"
      },
      "execution_count": 30,
      "outputs": []
    },
    {
      "cell_type": "code",
      "source": [
        "model.fit(xtrain,y_train,epochs=20,batch_size=32)"
      ],
      "metadata": {
        "colab": {
          "base_uri": "https://localhost:8080/"
        },
        "id": "KA9B-A9PVp11",
        "outputId": "822fed8e-2a28-4684-9640-4c4d1912d98d"
      },
      "execution_count": 32,
      "outputs": [
        {
          "output_type": "stream",
          "name": "stdout",
          "text": [
            "Epoch 1/20\n",
            "1875/1875 [==============================] - 143s 76ms/step - loss: 0.2754 - accuracy: 0.8968\n",
            "Epoch 2/20\n",
            "1875/1875 [==============================] - 143s 76ms/step - loss: 0.2759 - accuracy: 0.8959\n",
            "Epoch 3/20\n",
            "1875/1875 [==============================] - 148s 79ms/step - loss: 0.2685 - accuracy: 0.8994\n",
            "Epoch 4/20\n",
            "1875/1875 [==============================] - 148s 79ms/step - loss: 0.2636 - accuracy: 0.8993\n",
            "Epoch 5/20\n",
            "1875/1875 [==============================] - 142s 76ms/step - loss: 0.2625 - accuracy: 0.8994\n",
            "Epoch 6/20\n",
            "1875/1875 [==============================] - 143s 76ms/step - loss: 0.2557 - accuracy: 0.9030\n",
            "Epoch 7/20\n",
            "1875/1875 [==============================] - 143s 76ms/step - loss: 0.2547 - accuracy: 0.9033\n",
            "Epoch 8/20\n",
            "1875/1875 [==============================] - 142s 76ms/step - loss: 0.2506 - accuracy: 0.9048\n",
            "Epoch 9/20\n",
            "1875/1875 [==============================] - 142s 76ms/step - loss: 0.2469 - accuracy: 0.9054\n",
            "Epoch 10/20\n",
            "1875/1875 [==============================] - 142s 76ms/step - loss: 0.2455 - accuracy: 0.9076\n",
            "Epoch 11/20\n",
            "1875/1875 [==============================] - 141s 75ms/step - loss: 0.2430 - accuracy: 0.9077\n",
            "Epoch 12/20\n",
            "1875/1875 [==============================] - 142s 76ms/step - loss: 0.2396 - accuracy: 0.9092\n",
            "Epoch 13/20\n",
            "1875/1875 [==============================] - 142s 76ms/step - loss: 0.2391 - accuracy: 0.9100\n",
            "Epoch 14/20\n",
            "1875/1875 [==============================] - 142s 76ms/step - loss: 0.2417 - accuracy: 0.9093\n",
            "Epoch 15/20\n",
            "1875/1875 [==============================] - 142s 76ms/step - loss: 0.2371 - accuracy: 0.9095\n",
            "Epoch 16/20\n",
            "1875/1875 [==============================] - 143s 76ms/step - loss: 0.2344 - accuracy: 0.9115\n",
            "Epoch 17/20\n",
            "1875/1875 [==============================] - 144s 77ms/step - loss: 0.2311 - accuracy: 0.9113\n",
            "Epoch 18/20\n",
            "1875/1875 [==============================] - 142s 76ms/step - loss: 0.2323 - accuracy: 0.9117\n",
            "Epoch 19/20\n",
            "1875/1875 [==============================] - 141s 75ms/step - loss: 0.2314 - accuracy: 0.9122\n",
            "Epoch 20/20\n",
            "1875/1875 [==============================] - 142s 76ms/step - loss: 0.2272 - accuracy: 0.9127\n"
          ]
        },
        {
          "output_type": "execute_result",
          "data": {
            "text/plain": [
              "<keras.src.callbacks.History at 0x7f3074e76680>"
            ]
          },
          "metadata": {},
          "execution_count": 32
        }
      ]
    },
    {
      "cell_type": "markdown",
      "source": [
        "**Accuracies**"
      ],
      "metadata": {
        "id": "-8pCizr5XB5e"
      }
    },
    {
      "cell_type": "code",
      "source": [
        "trainScore = model.evaluate(xtrain,y_train)\n",
        "print(\"Training accuracy: \", trainScore[1])\n",
        "testScore = model.evaluate(xtest,y_test)\n",
        "print(\"Test accuracy: \", testScore[1])"
      ],
      "metadata": {
        "id": "eIOBvLnTWjOG",
        "outputId": "477c2ace-e5d1-4116-8cd9-89daadb91db0",
        "colab": {
          "base_uri": "https://localhost:8080/"
        }
      },
      "execution_count": 33,
      "outputs": [
        {
          "output_type": "stream",
          "name": "stdout",
          "text": [
            "1875/1875 [==============================] - 34s 18ms/step - loss: 0.1577 - accuracy: 0.9387\n",
            "Training accuracy:  0.9386500120162964\n",
            "313/313 [==============================] - 5s 16ms/step - loss: 0.2584 - accuracy: 0.9082\n",
            "Test accuracy:  0.9082000255584717\n"
          ]
        }
      ]
    },
    {
      "cell_type": "markdown",
      "source": [
        "**Predictions**"
      ],
      "metadata": {
        "id": "AJgU5i-MXrH7"
      }
    },
    {
      "cell_type": "code",
      "source": [
        "predictions = model.predict(xtest)"
      ],
      "metadata": {
        "id": "N7n88UGFbjTD",
        "outputId": "42dad98b-d704-4aa5-d3b0-b85a175a5080",
        "colab": {
          "base_uri": "https://localhost:8080/"
        }
      },
      "execution_count": 34,
      "outputs": [
        {
          "output_type": "stream",
          "name": "stdout",
          "text": [
            "313/313 [==============================] - 5s 16ms/step\n"
          ]
        }
      ]
    },
    {
      "cell_type": "code",
      "source": [
        "results = np.argmax(predictions,axis=1)\n",
        "print(results)"
      ],
      "metadata": {
        "id": "ghPP1RsBbqim",
        "outputId": "e38f0f70-d8b2-4ea4-ed85-5ebd310e95e9",
        "colab": {
          "base_uri": "https://localhost:8080/"
        }
      },
      "execution_count": 36,
      "outputs": [
        {
          "output_type": "stream",
          "name": "stdout",
          "text": [
            "[9 2 1 ... 8 1 5]\n"
          ]
        }
      ]
    },
    {
      "cell_type": "code",
      "source": [
        "labels = ['T-shirt/Top','Trouser','Pullover','Dress','Coat','Sandal','Shirt','Sneaker','Bag','Ankle Boot']"
      ],
      "metadata": {
        "id": "DcNsDpzobxln"
      },
      "execution_count": 37,
      "outputs": []
    },
    {
      "cell_type": "code",
      "source": [
        "for i in range(9):\n",
        "  ax = plt.subplot(3,3,i+1)\n",
        "  plt.imshow(xtest[i])\n",
        "  plt.title(labels[results[i]])\n",
        "  plt.axis('off')"
      ],
      "metadata": {
        "id": "Qdor0h6KcG5O",
        "outputId": "480ea564-5d90-4d86-80c6-190cff17a2d3",
        "colab": {
          "base_uri": "https://localhost:8080/",
          "height": 428
        }
      },
      "execution_count": 42,
      "outputs": [
        {
          "output_type": "display_data",
          "data": {
            "text/plain": [
              "<Figure size 640x480 with 9 Axes>"
            ],
            "image/png": "[encoded data removed]"
          },
          "metadata": {}
        }
      ]
    }
  ]
}